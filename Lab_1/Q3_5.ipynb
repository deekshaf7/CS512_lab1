{
 "cells": [
  {
   "cell_type": "code",
   "execution_count": null,
   "metadata": {},
   "outputs": [],
   "source": [
    "#Github code - https://github.com/deekshaf7/CS512_lab1.git\n",
    "#Required Libraries and packages\n",
    "!pip3 install -U liblinear-official\n",
    "from liblinear.liblinearutil import *\n",
    "from utils import *"
   ]
  },
  {
   "cell_type": "code",
   "execution_count": null,
   "metadata": {},
   "outputs": [],
   "source": [
    "#Q3(a)Accuracy on letter-wise prediction -the percentage of correctly predicted letters on the whole test set \n",
    "\n",
    "c_values = [1, 10, 100, 1000, 5000, 10000, 15000, 20000]"
   ]
  },
  {
   "cell_type": "code",
   "execution_count": null,
   "metadata": {},
   "outputs": [],
   "source": [
    "#1. Accuracy on letter-wise prediction using CRF\n",
    "#Calculation of accuracy\n",
    "nc = len(c_values)\n",
    "accuracy_values_crf = [0] * nc\n",
    "#Plot the accuracy vs c values for CRF\n",
    "model = \"CRF\"  # Name of the model\n",
    "x_label = \"C\"  # Description of what parameter is varied\n",
    "plot_accuracy(c_values, accuracy_values_crf, model, x_label,3,0)"
   ]
  },
  {
   "cell_type": "code",
   "execution_count": null,
   "metadata": {},
   "outputs": [],
   "source": [
    "#2. Accuracy on letter-wise prediction using SVM-Struct(svm-hmm)\n",
    "#Follow requirement.txt and make file to install the required packages\n",
    "#Calculation of accuracy\n",
    "accuracy_values_svm_struct = {}\n",
    "#It will take 2-3 minutes to run\n",
    "for c in c_values:\n",
    "    accuracy_values_svm_struct[c] = svm_struct(c)\n",
    "\n",
    "accuracy_values_array_struct = list(accuracy_values_svm_struct.values())\n",
    "\n",
    "#Plot the accuracy vs c values for SVM-Struct\n",
    "model = \"SVM-Struct\"  # Name of the model\n",
    "x_label = \"C\"  # Description of what parameter is varied\n",
    "plot_accuracy(c_values, accuracy_values_array_struct, model, x_label,3,0)"
   ]
  },
  {
   "cell_type": "code",
   "execution_count": null,
   "metadata": {},
   "outputs": [],
   "source": [
    "#3. Accuracy on letter-wise prediction using SVM-MC \n",
    "#Calculation of accuracy\n",
    "accuracy_values_svm_mc = {}\n",
    "for c in c_values:\n",
    "    accuracy_values_svm_mc[c] = svm_mc(c,0,0)\n",
    "\n",
    "accuracy_values_array_mc = list(accuracy_values_svm_mc.values())\n",
    "\n",
    "#Plot the graph\n",
    "model = \"SVM-MC\"  # Name of the model\n",
    "x_label = \"C\"  # Description of what parameter is varied\n",
    "plot_accuracy(c_values, accuracy_values_array_mc, model, x_label,3,0)"
   ]
  },
  {
   "cell_type": "code",
   "execution_count": null,
   "metadata": {},
   "outputs": [],
   "source": [
    "#Q3(b)Accuracy on word-wise prediction accuracy on test data\n",
    "#1. Accuracy on word-wise prediction using CRF\n",
    "#Calculation of accuracy\n",
    "nc = len(c_values)\n",
    "w_accuracy_values_crf = [0] * nc\n",
    "#Plot the accuracy vs c values for CRF\n",
    "model = \"CRF\"  # Name of the model\n",
    "x_label = \"C\"  # Description of what parameter is varied\n",
    "plot_accuracy(c_values, w_accuracy_values_crf, model, x_label,3,1)\n",
    "#---------------------------------------------------------------------------"
   ]
  },
  {
   "cell_type": "code",
   "execution_count": null,
   "metadata": {},
   "outputs": [],
   "source": [
    "#2. Accuracy on word-wise prediction using SVM-Struct(svm-hmm)\n",
    "#Follow requirement.txt and make file to install the required packages\n",
    "#Calculation of accuracy\n",
    "w_accuracy_values_svm_struct = {}\n",
    "#It will take 2-3 minutes to run\n",
    "for c in c_values:\n",
    "    w_accuracy_values_svm_struct[c] = svm_struct_w(c)\n",
    "\n",
    "w_accuracy_values_array_struct = list(w_accuracy_values_svm_struct.values())\n",
    "\n",
    "#Plot the accuracy vs c values for SVM-Struct\n",
    "model = \"SVM-Struct\"  # Name of the model\n",
    "x_label = \"C\"  # Description of what parameter is varied\n",
    "plot_accuracy(c_values, accuracy_values_array_struct, model, x_label,3,1)\n",
    "#---------------------------------------------------------------------------"
   ]
  },
  {
   "cell_type": "code",
   "execution_count": null,
   "metadata": {},
   "outputs": [],
   "source": [
    "#3. Accuracy on word-wise prediction using SVM-MC \n",
    "#Calculation of accuracy\n",
    "w_accuracy_values_svm_mc = {}\n",
    "for c in c_values:\n",
    "    w_accuracy_values_svm_mc[c] = svm_mc_w(c,0,0)\n",
    "\n",
    "w_accuracy_values_array_mc = list(w_accuracy_values_svm_mc.values())\n",
    "\n",
    "#Plot the graph\n",
    "model = \"SVM-MC\"  # Name of the model\n",
    "x_label = \"C\"  # Description of what parameter is varied\n",
    "plot_accuracy(c_values, w_accuracy_values_array_mc, model, x_label,3,1)"
   ]
  },
  {
   "cell_type": "code",
   "execution_count": null,
   "metadata": {},
   "outputs": [],
   "source": [
    "#Q5 (a) Accuracy on letter-wise prediction -the percentage of correctly predicted letters on the whole test set\n",
    "\n",
    "#plot the letter-wise prediction accuracy on test data vs x lines of transformations on training data\n",
    "x_values = [0, 500, 1000, 1500, 2000]\n",
    "\n",
    "#data transformation\n",
    "for x in x_values:\n",
    "    transform_training_data_rotate_translate(x)\n",
    "\n",
    "#1 CRF part\n",
    "# Best value of c for CRF found in 3a is <->\n",
    "#call the crf function to get the accuracy values\n",
    "accuracy_values = [0.82, 0.84, 0.85, 0.86, 0.87]  # Example accuracy values for each dataset size\n",
    "\n",
    "model = \"CRF\"  # Name of the model\n",
    "x_label = \"x\"  # Description of what parameter is varied ]\n",
    "\n",
    "plot_accuracy(x_values, accuracy_values, model, x_label,5,0)"
   ]
  },
  {
   "cell_type": "code",
   "execution_count": null,
   "metadata": {},
   "outputs": [],
   "source": [
    "#2 SVM-MC part\n",
    "# Best value of c for CRF found in 3a is 1000\n",
    "c = 1000\n",
    "accuracy_values_svm_mc_x = {}\n",
    "#Preprocess the data to work with the SVM-MC model and Calculate accuracy values for each x value\n",
    "for x in x_values:\n",
    "    accuracy_values_svm_mc_x[x] = svm_mc(c, x,1)\n",
    "    \n",
    "print(accuracy_values_svm_mc_x)\n",
    "accuracy_values_array_mc_x = list(accuracy_values_svm_mc_x.values())\n",
    "\n",
    "plot_accuracy(x_values, accuracy_values_array_mc_x, \"SVM-MC\", \"x\",5,0)\n",
    "\n",
    "#Observations\n"
   ]
  },
  {
   "cell_type": "code",
   "execution_count": null,
   "metadata": {},
   "outputs": [],
   "source": [
    "#Q5 (b) Accuracy on word-wise prediction -the percentage of correctly predicted letters on the whole test set\n",
    "#2 SVM-MC part\n",
    "# Best value of c for CRF found in 3b is 1000\n",
    "c = 1000\n",
    "w_accuracy_values_svm_mc_x = {}\n",
    "#Preprocess the data to work with the SVM-MC model and Calculate accuracy values for each x value\n",
    "for x in x_values:\n",
    "    w_accuracy_values_svm_mc_x[x] = svm_mc_w(c, x,1)\n",
    "    \n",
    "print(w_accuracy_values_svm_mc_x)\n",
    "w_accuracy_values_array_mc_x = list(w_accuracy_values_svm_mc_x.values())\n",
    "\n",
    "plot_accuracy(x_values, w_accuracy_values_array_mc_x, \"SVM-MC\", \"x\",5,1)\n",
    "\n",
    "#Observations"
   ]
  }
 ],
 "metadata": {
  "kernelspec": {
   "display_name": "Python 3",
   "language": "python",
   "name": "python3"
  },
  "language_info": {
   "codemirror_mode": {
    "name": "ipython",
    "version": 3
   },
   "file_extension": ".py",
   "mimetype": "text/x-python",
   "name": "python",
   "nbconvert_exporter": "python",
   "pygments_lexer": "ipython3",
   "version": "3.12.2"
  }
 },
 "nbformat": 4,
 "nbformat_minor": 2
}
